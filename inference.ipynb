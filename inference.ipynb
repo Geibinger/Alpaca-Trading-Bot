{
 "cells": [
  {
   "cell_type": "code",
   "execution_count": null,
   "metadata": {},
   "outputs": [],
   "source": [
    "!pip3 install setuptools==64.0.2\n",
    "!apt-get install swig\n",
    "!pip3 install wrds\n",
    "!pip3 install git+https://github.com/AI4Finance-LLC/FinRL-Library.git"
   ]
  },
  {
   "cell_type": "code",
   "execution_count": null,
   "metadata": {},
   "outputs": [],
   "source": [
    "import os\n",
    "import datetime\n",
    "\n",
    "import numpy as np\n",
    "import pandas as pd\n",
    "\n",
    "import matplotlib\n",
    "import matplotlib.pyplot as plt\n",
    "%matplotlib inline\n",
    "matplotlib.use('Agg')\n",
    "\n",
    "from finrl.meta.preprocessor.yahoodownloader import YahooDownloader\n",
    "# \tdate\topen\thigh\tlow\tclose\tvolume\ttic\tday\n",
    "\n",
    "import yfinance as yf\n",
    "\n",
    "from finrl.meta.preprocessor.preprocessors import FeatureEngineer\n",
    "from finrl.meta.env_stock_trading.env_stocktrading import StockTradingEnv\n",
    "\n",
    "from stable_baselines3 import A2C, DDPG, PPO"
   ]
  },
  {
   "cell_type": "code",
   "execution_count": null,
   "metadata": {},
   "outputs": [],
   "source": [
    "tickers_list = ['NVDA', 'AAPL', 'GOOG']  # list of tickers\n",
    "\n",
    "# Define start and end dates\n",
    "end_date = datetime.date.today()\n",
    "start_date = end_date - datetime.timedelta(days=60)\n",
    "\n",
    "# Download data for each ticker in the list\n",
    "data = {}\n",
    "for ticker in tickers_list:\n",
    "    data[ticker] = yf.download(ticker, start=start_date, end=end_date)\n",
    "\n",
    "# Convert data to dataframe with required format\n",
    "dfs = []\n",
    "for ticker in data.keys():\n",
    "    df = data[ticker].reset_index()\n",
    "    df['tic'] = ticker\n",
    "    dfs.append(df)\n",
    "df = pd.concat(dfs, ignore_index=True)\n",
    "df.columns = df.columns.str.lower()\n",
    "df = df[['date', 'open', 'high', 'low', 'close', 'volume', 'tic']]\n",
    "df['date'] = df['date'].dt.strftime('%Y-%m-%d')\n",
    "\n",
    "df.head()\n"
   ]
  },
  {
   "cell_type": "code",
   "execution_count": null,
   "metadata": {},
   "outputs": [],
   "source": [
    "INDICATORS = ['macd',\n",
    "               'rsi_30',\n",
    "               'cci_30',\n",
    "               'dx_30']\n",
    "\n",
    "# create a feature engineer object\n",
    "fe = FeatureEngineer(use_technical_indicator=True,\n",
    "                     tech_indicator_list=INDICATORS,\n",
    "                     use_turbulence=False,\n",
    "                     user_defined_feature=False)\n",
    "\n",
    "# Preprocess the current stock prices data\n",
    "preprocessed = fe.preprocess_data(df)\n",
    "preprocessed = preprocessed.fillna(0)\n",
    "preprocessed = preprocessed.replace(np.inf,0)\n",
    "\n",
    "preprocessed.sample(5)"
   ]
  },
  {
   "attachments": {},
   "cell_type": "markdown",
   "metadata": {},
   "source": [
    "TODO:"
   ]
  },
  {
   "cell_type": "code",
   "execution_count": null,
   "metadata": {},
   "outputs": [],
   "source": [
    "# create a stock trading environment\n",
    "stock_dimension = len(preprocessed.tic.unique())\n",
    "state_space = 1 + 2*stock_dimension + len(tickers_list)*stock_dimension\n",
    "env_kwargs = {\n",
    "    \"hmax\": 100, \n",
    "    \"initial_amount\": 1000000,\n",
    "    \"num_stock_shares\": len(tickers_list),\n",
    "    \"buy_cost_pct\": 0.001, \n",
    "    \"sell_cost_pct\": 0.001, \n",
    "    \"state_space\": state_space, \n",
    "    \"stock_dim\": stock_dimension, \n",
    "    \"tech_indicator_list\": INDICATORS,\n",
    "    \"action_space\": stock_dimension, \n",
    "    \"reward_scaling\": 1e-4,\n",
    "    \"print_verbosity\":5\n",
    "}\n",
    "\n",
    "e_trade_gym = StockTradingEnv(df=preprocessed, **env_kwargs)"
   ]
  },
  {
   "cell_type": "code",
   "execution_count": null,
   "metadata": {},
   "outputs": [],
   "source": [
    "# set the directory where the models are located\n",
    "model_dir = 'trained_models'\n",
    "\n",
    "# load the pre-trained models\n",
    "model_names = ['A2C_0k_126', 'A2C_0k_189', 'A2C_0k_252', 'A2C_0k_315', 'DDPG_0k_126', 'DDPG_0k_189', 'DDPG_0k_252', 'DDPG_0k_315', 'PPO_0k_126', 'PPO_0k_189', 'PPO_0k_252', 'PPO_0k_315']\n",
    "models = {}\n",
    "for name in model_names:\n",
    "    if name.startswith('A2C'):\n",
    "        model_path = os.path.join(model_dir, name)\n",
    "        model = A2C.load(model_path)\n",
    "    elif name.startswith('DDPG'):\n",
    "        model_path = os.path.join(model_dir, name)\n",
    "        model = DDPG.load(model_path)\n",
    "    elif name.startswith('PPO'):\n",
    "        model_path = os.path.join(model_dir, name)\n",
    "        model = PPO.load(model_path)\n",
    "    models[name] = model\n",
    "\n",
    "models"
   ]
  },
  {
   "cell_type": "code",
   "execution_count": null,
   "metadata": {},
   "outputs": [],
   "source": [
    "# run the loaded models on the environment and get the portfolio value\n",
    "for model_name, model in models.items():\n",
    "    env = e_trade_gym\n",
    "    obs = env.reset()\n",
    "    done = False\n",
    "    while not done:\n",
    "        action, _states = model.predict(obs)\n",
    "        obs, reward, done, info = env.step(action)\n",
    "    print(f\"{model_name} Sharpe Ratio: {info['sharpe_ratio']:.2f}\")\n"
   ]
  }
 ],
 "metadata": {
  "kernelspec": {
   "display_name": "Python 3",
   "language": "python",
   "name": "python3"
  },
  "language_info": {
   "codemirror_mode": {
    "name": "ipython",
    "version": 3
   },
   "file_extension": ".py",
   "mimetype": "text/x-python",
   "name": "python",
   "nbconvert_exporter": "python",
   "pygments_lexer": "ipython3",
   "version": "3.10.6"
  },
  "orig_nbformat": 4
 },
 "nbformat": 4,
 "nbformat_minor": 2
}
